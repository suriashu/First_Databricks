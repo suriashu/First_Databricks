{
 "cells": [
  {
   "cell_type": "code",
   "execution_count": 0,
   "metadata": {
    "application/vnd.databricks.v1+cell": {
     "cellMetadata": {
      "byteLimit": 2048000,
      "rowLimit": 10000
     },
     "inputWidgets": {},
     "nuid": "e1f2e45a-51cc-41e8-88ae-8d7c8807a223",
     "showTitle": true,
     "tableResultSettingsMap": {},
     "title": "Docs Link"
    }
   },
   "outputs": [],
   "source": [
    "Create schema bronze;"
   ]
  },
  {
   "cell_type": "code",
   "execution_count": 0,
   "metadata": {
    "application/vnd.databricks.v1+cell": {
     "cellMetadata": {
      "byteLimit": 2048000,
      "rowLimit": 10000
     },
     "inputWidgets": {},
     "nuid": "66bd2e5e-82eb-4177-beac-d6e0fb5f6879",
     "showTitle": false,
     "tableResultSettingsMap": {},
     "title": ""
    }
   },
   "outputs": [],
   "source": [
    "drop schema bronze;"
   ]
  },
  {
   "cell_type": "code",
   "execution_count": 0,
   "metadata": {
    "application/vnd.databricks.v1+cell": {
     "cellMetadata": {
      "byteLimit": 2048000,
      "rowLimit": 10000
     },
     "inputWidgets": {},
     "nuid": "5ccabb81-2427-457f-b48f-ce5ba81544c2",
     "showTitle": false,
     "tableResultSettingsMap": {},
     "title": ""
    }
   },
   "outputs": [],
   "source": [
    "use catalog datamaster;"
   ]
  },
  {
   "cell_type": "code",
   "execution_count": 0,
   "metadata": {
    "application/vnd.databricks.v1+cell": {
     "cellMetadata": {
      "byteLimit": 2048000,
      "rowLimit": 10000
     },
     "inputWidgets": {},
     "nuid": "9f539621-3a14-4ebe-bd6c-6f6433bafdb8",
     "showTitle": false,
     "tableResultSettingsMap": {},
     "title": ""
    }
   },
   "outputs": [],
   "source": [
    "create schema datamaster.bronze;"
   ]
  },
  {
   "cell_type": "markdown",
   "metadata": {
    "application/vnd.databricks.v1+cell": {
     "cellMetadata": {},
     "inputWidgets": {},
     "nuid": "25696f36-44a4-4248-a27a-00fd760652c7",
     "showTitle": false,
     "tableResultSettingsMap": {},
     "title": ""
    }
   },
   "source": [
    "![](/Volumes/datamaster/bronze/images/annaconda.png)"
   ]
  },
  {
   "cell_type": "code",
   "execution_count": 0,
   "metadata": {
    "application/vnd.databricks.v1+cell": {
     "cellMetadata": {
      "byteLimit": 2048000,
      "rowLimit": 10000
     },
     "inputWidgets": {},
     "nuid": "f8d0028d-a692-4dca-9492-7fff93f642de",
     "showTitle": false,
     "tableResultSettingsMap": {},
     "title": ""
    }
   },
   "outputs": [],
   "source": [
    "create table datamaster.bronze.test(id int,name string,age int);\n",
    "insert into datamaster.bronze.test values(1,'Suri',35)\n"
   ]
  },
  {
   "cell_type": "code",
   "execution_count": 0,
   "metadata": {
    "application/vnd.databricks.v1+cell": {
     "cellMetadata": {
      "byteLimit": 2048000,
      "rowLimit": 10000
     },
     "inputWidgets": {},
     "nuid": "652539c2-a631-4176-839e-60d740cb95e3",
     "showTitle": false,
     "tableResultSettingsMap": {},
     "title": ""
    }
   },
   "outputs": [],
   "source": [
    "select * from datamaster.bronze.test"
   ]
  },
  {
   "cell_type": "markdown",
   "metadata": {
    "application/vnd.databricks.v1+cell": {
     "cellMetadata": {},
     "inputWidgets": {},
     "nuid": "a73b084e-da2f-496d-992b-cd9d48b29c23",
     "showTitle": false,
     "tableResultSettingsMap": {},
     "title": ""
    }
   },
   "source": [
    "![](path)"
   ]
  },
  {
   "cell_type": "markdown",
   "metadata": {
    "application/vnd.databricks.v1+cell": {
     "cellMetadata": {},
     "inputWidgets": {},
     "nuid": "6697a51e-e042-4c58-8d08-b408ce78c4e6",
     "showTitle": false,
     "tableResultSettingsMap": {},
     "title": ""
    }
   },
   "source": [
    "## Functions  "
   ]
  },
  {
   "cell_type": "code",
   "execution_count": 0,
   "metadata": {
    "application/vnd.databricks.v1+cell": {
     "cellMetadata": {
      "byteLimit": 2048000,
      "rowLimit": 10000
     },
     "inputWidgets": {},
     "nuid": "c3d3d3c2-d36a-40d9-95c2-c97047c41e70",
     "showTitle": false,
     "tableResultSettingsMap": {},
     "title": ""
    }
   },
   "outputs": [],
   "source": [
    "use catalog datamaster;\n",
    "use schema bronze;\n",
    "-- creating a table\n",
    "CREATE OR REPLACE TABLE customer_reviews (\n",
    "    customer_id INT,\n",
    "    first_name STRING,\n",
    "    last_name STRING,\n",
    "    review STRING\n",
    ");\n",
    "\n",
    "INSERT INTO customer_reviews VALUES\n",
    "(1, 'John', 'Doe', 'Amazing product! I love it.'),\n",
    "(2, 'Jane', 'Smith', 'Not good, I am disappointed.'),\n",
    "(3, 'Alice', 'Brown', 'Decent quality but can be better.'),\n",
    "(4, 'Bob', 'Johnson', 'Fantastic service! Highly recommend.'),\n",
    "(5, 'Charlie', 'Davis', 'Terrible experience, never buying again.');\n",
    "     "
   ]
  },
  {
   "cell_type": "code",
   "execution_count": 0,
   "metadata": {
    "application/vnd.databricks.v1+cell": {
     "cellMetadata": {
      "byteLimit": 2048000,
      "rowLimit": 10000
     },
     "inputWidgets": {},
     "nuid": "74c79e4a-0908-4fb0-a716-6e16cc9baa72",
     "showTitle": false,
     "tableResultSettingsMap": {},
     "title": ""
    }
   },
   "outputs": [],
   "source": [
    "select * from datamaster.bronze.customer_reviews"
   ]
  },
  {
   "cell_type": "code",
   "execution_count": 0,
   "metadata": {
    "application/vnd.databricks.v1+cell": {
     "cellMetadata": {
      "byteLimit": 2048000,
      "rowLimit": 10000
     },
     "inputWidgets": {},
     "nuid": "85fb917f-5f9f-436f-abb0-1a4d991fd0ac",
     "showTitle": true,
     "tableResultSettingsMap": {},
     "title": "Syntax for UDF"
    }
   },
   "outputs": [],
   "source": [
    "create function function_name(para datatype)\n",
    "returns datatype\n",
    "return logic"
   ]
  },
  {
   "cell_type": "code",
   "execution_count": 0,
   "metadata": {
    "application/vnd.databricks.v1+cell": {
     "cellMetadata": {
      "byteLimit": 2048000,
      "rowLimit": 10000
     },
     "inputWidgets": {},
     "nuid": "eaa131a4-d118-4d8e-afe2-a62347745ae8",
     "showTitle": false,
     "tableResultSettingsMap": {},
     "title": ""
    }
   },
   "outputs": [],
   "source": [
    "create function datamaster.bronze.full_name_udf(first_name string, last_name string)\n",
    "returns string\n",
    "return first_name || ' ' || last_name;\n",
    "     "
   ]
  },
  {
   "cell_type": "code",
   "execution_count": 0,
   "metadata": {
    "application/vnd.databricks.v1+cell": {
     "cellMetadata": {
      "byteLimit": 2048000,
      "rowLimit": 10000
     },
     "inputWidgets": {},
     "nuid": "cf2ca629-1a41-4241-b528-d6dc52ca3ee7",
     "showTitle": true,
     "tableResultSettingsMap": {},
     "title": "Usages"
    }
   },
   "outputs": [],
   "source": [
    "select customer_id, datamaster.bronze.full_name_udf(first_name, last_name) as full_name, review from datamaster.bronze.customer_reviews\n",
    "     "
   ]
  },
  {
   "cell_type": "code",
   "execution_count": 0,
   "metadata": {
    "application/vnd.databricks.v1+cell": {
     "cellMetadata": {
      "byteLimit": 2048000,
      "rowLimit": 10000
     },
     "inputWidgets": {},
     "nuid": "1ccd20e0-590a-4a1f-968a-d37f1ca9110b",
     "showTitle": false,
     "tableResultSettingsMap": {},
     "title": ""
    }
   },
   "outputs": [],
   "source": [
    "-- Create a complex UDF for sentiment analysis\n",
    "CREATE FUNCTION datamaster.bronze.sentiment_analysis(review STRING)\n",
    "RETURNS STRING\n",
    "RETURN \n",
    "    CASE \n",
    "        WHEN review LIKE '%amazing%' OR review LIKE '%love%' OR review LIKE '%fantastic%' OR review LIKE '%recommend%' THEN 'Positive'\n",
    "        WHEN review LIKE '%not good%' OR review LIKE '%disappointed%' OR review LIKE '%terrible%' OR review LIKE '%never buying%' THEN 'Negative'\n",
    "        ELSE 'Neutral'\n",
    "    END;\n"
   ]
  },
  {
   "cell_type": "code",
   "execution_count": 0,
   "metadata": {
    "application/vnd.databricks.v1+cell": {
     "cellMetadata": {
      "byteLimit": 2048000,
      "rowLimit": 10000
     },
     "inputWidgets": {},
     "nuid": "e5c572ca-02b1-46fe-8071-6721514eeb76",
     "showTitle": false,
     "tableResultSettingsMap": {},
     "title": ""
    }
   },
   "outputs": [],
   "source": []
  },
  {
   "cell_type": "code",
   "execution_count": 0,
   "metadata": {
    "application/vnd.databricks.v1+cell": {
     "cellMetadata": {
      "byteLimit": 2048000,
      "rowLimit": 10000
     },
     "inputWidgets": {},
     "nuid": "50bc8184-b1b0-4625-b8b9-ff155371eafd",
     "showTitle": false,
     "tableResultSettingsMap": {},
     "title": ""
    }
   },
   "outputs": [],
   "source": [
    "create schema if not exists datamaster.silver;\n",
    "create schema if not exists datamaster.gold;"
   ]
  }
 ],
 "metadata": {
  "application/vnd.databricks.v1+notebook": {
   "computePreferences": null,
   "dashboards": [],
   "environmentMetadata": {
    "base_environment": "",
    "environment_version": "2"
   },
   "inputWidgetPreferences": null,
   "language": "sql",
   "notebookMetadata": {
    "pythonIndentUnit": 4
   },
   "notebookName": "Database Objects in Databricks",
   "widgets": {}
  },
  "language_info": {
   "name": "sql"
  }
 },
 "nbformat": 4,
 "nbformat_minor": 0
}
